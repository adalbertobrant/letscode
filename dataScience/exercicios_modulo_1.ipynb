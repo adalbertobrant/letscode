{
 "cells": [
  {
   "cell_type": "code",
   "execution_count": 3,
   "id": "d4f91d0e",
   "metadata": {},
   "outputs": [
    {
     "name": "stdout",
     "output_type": "stream",
     "text": [
      "Entre um valor monetário => 100\n",
      "O novo valor é [85.0] \n"
     ]
    }
   ],
   "source": [
    "\n",
    "\n",
    "valor = float(input(\"Entre um valor monetário => \"))\n",
    "print(f\"O novo valor é [{valor-valor*15/100}] \")"
   ]
  },
  {
   "cell_type": "code",
   "execution_count": 6,
   "id": "fa486960",
   "metadata": {},
   "outputs": [
    {
     "name": "stdout",
     "output_type": "stream",
     "text": [
      "Entre uma idade entre 0 e 150 => 9999\n",
      "Idade inválida\n",
      "Entre um salário maior que 0 => -100000\n",
      "Salário inválido\n",
      "Entre o sexo M, F ou Outro => casa\n",
      "Sexo inválido\n"
     ]
    }
   ],
   "source": [
    "\n",
    "idade = int(input(\"Entre uma idade entre 0 e 150 => \"))\n",
    "if idade < 0 or idade > 150:\n",
    "    print(\"Idade inválida\")\n",
    "salario = float(input(\"Entre um salário maior que 0 => \"))\n",
    "if salario <= 0:\n",
    "    print(\"Salário inválido\")\n",
    "sexo = str(input(\"Entre o sexo M, F ou Outro => \"))\n",
    "if sexo != 'M' or sexo != 'F' or sexo != 'Outro':\n",
    "    print(\"Sexo inválido\")"
   ]
  },
  {
   "cell_type": "code",
   "execution_count": 9,
   "id": "a0015583",
   "metadata": {},
   "outputs": [
    {
     "name": "stdout",
     "output_type": "stream",
     "text": [
      "Mora perto da vítima? => sim\n",
      "Já trabalhou com a vítima? => não\n",
      "Telefonou para a vítima? => não\n",
      "Esteve no local do crime? => não\n",
      "Devia para a vítima? => não\n",
      "liberado, não é mais suspeito\n"
     ]
    }
   ],
   "source": [
    "\n",
    "\n",
    "pontos_suspeito = 0\n",
    "moradia = input(\"Mora perto da vítima? => \")\n",
    "if moradia == 'sim':\n",
    "    pontos_suspeito += 1\n",
    "trabalho = input(\"Já trabalhou com a vítima? => \")\n",
    "if trabalho == 'sim':\n",
    "    pontos_suspeito += 1\n",
    "telefone = input(\"Telefonou para a vítima? => \")\n",
    "if telefone == 'sim':\n",
    "    pontos_suspeito += 1\n",
    "local_crime = input(\"Esteve no local do crime? => \")\n",
    "if local_crime == 'sim':\n",
    "    pontos_suspeito += 1\n",
    "devedor = input(\"Devia para a vítima? => \")\n",
    "if devedor == 'sim':\n",
    "    pontos_suspeito += 1\n",
    "if pontos_suspeito == 5:\n",
    "    print(\"Suspeito é o assasino!!\")\n",
    "elif pontos_suspeito >= 3 and pontos_suspeito <= 4:\n",
    "    print(\"Suspeito é cúmplice do assasino!\")\n",
    "elif pontos_suspeito == 2:\n",
    "    print(\"Apenas suspeito, investigar mais!\")\n",
    "else:\n",
    "    print(\"liberado, não é mais suspeito\")"
   ]
  },
  {
   "cell_type": "code",
   "execution_count": 13,
   "id": "c182b3c5",
   "metadata": {},
   "outputs": [
    {
     "name": "stdout",
     "output_type": "stream",
     "text": [
      "===========================\n",
      "                           \n",
      "         Tabuada 9         \n",
      "                           \n",
      "===========================\n",
      "9 x 1 = 9\n",
      "9 x 2 = 18\n",
      "9 x 3 = 27\n",
      "9 x 4 = 36\n",
      "9 x 5 = 45\n",
      "9 x 6 = 54\n",
      "9 x 7 = 63\n",
      "9 x 8 = 72\n",
      "9 x 9 = 81\n",
      "9 x 10 = 90\n"
     ]
    }
   ],
   "source": [
    "\n",
    "print(\"===========================\")\n",
    "print(\"                           \")\n",
    "print(\"         Tabuada 9         \")\n",
    "print(\"                           \")\n",
    "print(\"===========================\")\n",
    "valor = 1\n",
    "nove = 9\n",
    "while valor <= 10:\n",
    "    print (f\"9 x {valor} = {(valor * nove)}\")\n",
    "    valor += 1\n",
    "\n"
   ]
  },
  {
   "cell_type": "code",
   "execution_count": 15,
   "id": "9f103d25",
   "metadata": {},
   "outputs": [
    {
     "name": "stdout",
     "output_type": "stream",
     "text": [
      "Quanto você ganha por hora ? => 15\n",
      "Quantas horas de trabalho nesse mês você fez ? => 100\n",
      "+ Salário Bruto : R$ 1500.0\n",
      "- IR (11%) : R$ 165.0\n",
      "- INSS (8%) : R$ 120.0\n",
      "- Sindicato (5%) : R$ 75.0\n"
     ]
    }
   ],
   "source": [
    "valor_hora = float(input(\"Quanto você ganha por hora ? => \"))\n",
    "horas_mes = int(input(\"Quantas horas de trabalho nesse mês você fez ? => \"))\n",
    "sal_bruto = valor_hora * horas_mes\n",
    "ir = sal_bruto * 11/100\n",
    "inss = sal_bruto * 8/100\n",
    "sindicato = sal_bruto * 5/100\n",
    "liquido = sal_bruto - ir - inss - sindicato\n",
    "print(f\"+ Salário Bruto : R$ {sal_bruto}\")\n",
    "print(f\"- IR (11%) : R$ {ir}\")\n",
    "print(f\"- INSS (8%) : R$ {inss}\")\n",
    "print(f\"- Sindicato (5%) : R$ {sindicato}\")\n",
    "print(f\"= Salário Líquido : R$ {liquido}\")\n",
    "\n"
   ]
  },
  {
   "cell_type": "code",
   "execution_count": null,
   "id": "44a38302",
   "metadata": {},
   "outputs": [],
   "source": []
  }
 ],
 "metadata": {
  "kernelspec": {
   "display_name": "Python 3 (ipykernel)",
   "language": "python",
   "name": "python3"
  },
  "language_info": {
   "codemirror_mode": {
    "name": "ipython",
    "version": 3
   },
   "file_extension": ".py",
   "mimetype": "text/x-python",
   "name": "python",
   "nbconvert_exporter": "python",
   "pygments_lexer": "ipython3",
   "version": "3.8.10"
  }
 },
 "nbformat": 4,
 "nbformat_minor": 5
}
