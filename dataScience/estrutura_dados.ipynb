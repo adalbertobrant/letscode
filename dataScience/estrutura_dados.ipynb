{
 "cells": [
  {
   "cell_type": "code",
   "execution_count": 21,
   "id": "929c0eaf",
   "metadata": {
    "scrolled": true
   },
   "outputs": [
    {
     "name": "stdout",
     "output_type": "stream",
     "text": [
      "Tamanho da lista  4\n",
      "['argentina', 'canada']\n",
      "['japao', 'canada', 'argentina', 'brasil']\n",
      "['brasil', 'canada']\n",
      "True\n",
      "['brasilia', 'pequim', 'bogotá', 'buenos aires'] londres\n",
      "<class 'tuple'>\n",
      "<class 'tuple'>\n",
      "x = canada, y = brasil, z=chile\n",
      "canada brasil chile\n"
     ]
    }
   ],
   "source": [
    "# Listas e tuplas\n",
    "# indexação de base zero\n",
    "nomes_paises = ['brasil', 'argentina', 'canada', 'japao']\n",
    "# tamanho da lista\n",
    "print('Tamanho da lista ', len(nomes_paises))\n",
    "\n",
    "# fatiamento (slicing)\n",
    "print(nomes_paises[1:3])\n",
    "\n",
    "# fatiamento com step\n",
    "print(nomes_paises[::-1])\n",
    "print(nomes_paises[::2])\n",
    "\n",
    "# verifica valor numa lista\n",
    "print('brasil' in nomes_paises)\n",
    "\n",
    "# adição de elementos na lista\n",
    "lista_capitais = []\n",
    "lista_capitais.append('brasilia')\n",
    "lista_capitais.append('pequim')\n",
    "lista_capitais.append('bogotá')\n",
    "lista_capitais.append('buenos aires')\n",
    "\n",
    "# inserir numa posição específica de uma lista\n",
    "lista_capitais.insert(2,'paris')\n",
    "lista_capitais.insert(2,'londres')\n",
    "\n",
    "# remover elemento da lista a partir do seu valor\n",
    "lista_capitais.remove('paris')\n",
    "# deletar elemento da lista a partir da sua posição\n",
    "removido = lista_capitais.pop(2)\n",
    "print(lista_capitais, removido)\n",
    "\n",
    "# tuplas \n",
    "# após a definição de valores não pode se alterar os mesmos\n",
    "# possui operações especiais que a lista não atende, é menor em armazenamento do que uma lista\n",
    "# declaração de uma tupla\n",
    "nomes_paises = ('canada', 'brasil', 'chile')\n",
    "print(type(nomes_paises))\n",
    "# tupla de um elemento\n",
    "nome_estado = 'sao paulo', \n",
    "print(type(nome_estado))\n",
    "\n",
    "# operação de unpacking -> colocação de valores de uma tupla em variáveis diferentes\n",
    "x,y,z = nomes_paises\n",
    "print(f\"x = {x}, y = {y}, z={z}\")\n",
    "# unpacking com *(asterico)\n",
    "print(*nomes_paises)\n",
    "\n"
   ]
  },
  {
   "cell_type": "code",
   "execution_count": 30,
   "id": "6efd94d2",
   "metadata": {},
   "outputs": [
    {
     "name": "stdout",
     "output_type": "stream",
     "text": [
      "hoje o professor disse:\" a pizza é por minha conta \"\n",
      "Gol\n",
      "elgooG\n",
      "['sao paulo', 'belo horizonte', 'curitiba', 'rio de janeiro', 'brasilia']\n",
      "                         MENU PRINCIPAL                              \n",
      "MENU PRINCIPAL\n",
      "Rio De Janeiro\n",
      "Rio de janeiro\n",
      "rio de janeiro\n",
      "RIO DE JANEIRO\n"
     ]
    }
   ],
   "source": [
    "# Strings caracteres de escape\n",
    "print(\"hoje o professor disse:\\\" a pizza é por minha conta \\\"\")\n",
    "# acesso de possições em uma string\n",
    "empresa = \"Google\"\n",
    "print(empresa[::2])\n",
    "print(empresa[::-1])\n",
    "\n",
    "# métodos em strings\n",
    "nomes_cidades = \"sao paulo, belo horizonte, curitiba, rio de janeiro, brasilia\"\n",
    "# método slip quebra cada um dos valores em uma lista\n",
    "nomes_cidades = nomes_cidades.split(', ')\n",
    "print(nomes_cidades)\n",
    "\n",
    "# método strip serve para remover espaços no início ou final da string\n",
    "cabecalho = \"                         MENU PRINCIPAL                              \"\n",
    "print(cabecalho)\n",
    "print(cabecalho.strip()) \n",
    "\n",
    "# formação de caixa em textos \n",
    "nome_cidade = \"rIo de JaNeiRO\"\n",
    "print(nome_cidade.title())\n",
    "print(nome_cidade.capitalize())\n",
    "print(nome_cidade.lower())\n",
    "print(nome_cidade.upper())\n"
   ]
  },
  {
   "cell_type": "code",
   "execution_count": 40,
   "id": "1fffa526",
   "metadata": {},
   "outputs": [
    {
     "name": "stdout",
     "output_type": "stream",
     "text": [
      "rIo de JaNeiRO\n",
      "   5\n",
      "0005\n",
      "casacasacasacasacasa\n",
      "casa casa casa casa casa \n"
     ]
    }
   ],
   "source": [
    "# formatação de strings\n",
    "print(f\"{nome_cidade}\")\n",
    "# formatação de números\n",
    "x = 5\n",
    "print(f\"{x:4d}\")\n",
    "\n",
    "print(f\"{x:04d}\")\n",
    "\n",
    "# multiplica string\n",
    "x = \"casa\"\n",
    "print(x*5)\n",
    "x = (x + \" \") * 5\n",
    "print(x)"
   ]
  },
  {
   "cell_type": "code",
   "execution_count": 56,
   "id": "3f09a24a",
   "metadata": {},
   "outputs": [
    {
     "name": "stdout",
     "output_type": "stream",
     "text": [
      "<class 'dict'>\n",
      "{'nome': 'São Paulo', 'estado': 'São Paulo', 'área': 1521, 'população_milhões': 12.18}\n",
      "{'nome': 'São Paulo', 'estado': 'São Paulo', 'área': 1521, 'população_milhões': 12.18, 'país': 'Brasil'}\n",
      "{'nome': 'São Paulo', 'estado': 'São Paulo', 'área': 1500, 'população_milhões': 12.18, 'país': 'Brasil'}\n",
      "{'nome': 'São Paulo', 'estado': 'São Paulo', 'área': 1500, 'população_milhões': 12.18, 'país': 'Brasil'}\n",
      "após alteração e copy para nova variável dados_cidade_2\n",
      "{'nome': 'Santos', 'estado': 'São Paulo', 'área': 1500, 'população_milhões': 12.18, 'país': 'Brasil'}\n",
      "{'nome': 'Santos', 'estado': 'São Paulo', 'área': 1500, 'população_milhões': 12.18, 'país': 'Brasil'}\n",
      "{'nome': 'Santos', 'estado': 'São Paulo', 'área': 1500, 'população_milhões': 12.18, 'país': 'Brasil'}\n",
      "----\n",
      "erro de nome\n",
      "endereço de memória de Val 0x7fbd3ee7ad40\n",
      "endereço de memória de dados_cidade_2 0x7fbd3ee7ad40\n",
      "\n",
      "Endereços após usar o método copy no dicionário dados_cidade_2\n",
      "\n",
      "endereço de memória de Val 0x7fbd3ee4a5c0\n",
      "endereço de memória de dados_cidade_2 0x7fbd3ee7ad40\n"
     ]
    }
   ],
   "source": [
    "# dicionários em python -> coleção associativa desordenada\n",
    "# verbetes -> significados \n",
    "# chaves => valores\n",
    "dados_cidade = {\n",
    "    'nome':'São Paulo',\n",
    "    'estado':'São Paulo',\n",
    "    'área': 1521,\n",
    "    'população_milhões':12.18\n",
    "}\n",
    "print(type(dados_cidade))\n",
    "print(dados_cidade)\n",
    "# adiciona par chave valor\n",
    "dados_cidade[\"país\"] = \"Brasil\"\n",
    "print(dados_cidade)\n",
    "# alterar chave valor\n",
    "dados_cidade[\"área\"] = 1500\n",
    "print(dados_cidade)\n",
    "# copiar um dicionário para não alterar o valor\n",
    "dados_cidade_2 = dados_cidade.copy()\n",
    "dados_cidade_2['nome'] = 'Santos'\n",
    "print(dados_cidade)\n",
    "print('após alteração e copy para nova variável dados_cidade_2')\n",
    "print(dados_cidade_2)\n",
    "# caso seja feita a passagem de valores apenas através de variáveis sem utilizar o método de cópia \n",
    "# temos o seguinte problema\n",
    "val = dados_cidade_2\n",
    "print (val)\n",
    "print (dados_cidade_2)\n",
    "print('----')\n",
    "val['nome'] = 'erro de nome'\n",
    "print(dados_cidade_2['nome'])\n",
    "# como podemos observar ocorreu alteração na variável dados_cidade_2 apesar de termos declarado que \n",
    "# queríamos alterar apenas o valor da chave nome na variável val.\n",
    "# devemos portanto utilizar o copy, isso ocorre devido a posição da memória ser a mesma \n",
    "# para val e dados_cidade_2\n",
    "print(f\"endereço de memória de Val {hex(id(val))}\")\n",
    "print(f\"endereço de memória de dados_cidade_2 {hex(id(dados_cidade_2))}\")\n",
    "# agora se utilizarmos o copy vemos que os valores do dicionário estão em outro lugar na memória\n",
    "val = dados_cidade_2.copy()\n",
    "print(\"\\nEndereços após usar o método copy no dicionário dados_cidade_2\")\n",
    "print(f\"\\nendereço de memória de Val {hex(id(val))}\")\n",
    "print(f\"endereço de memória de dados_cidade_2 {hex(id(dados_cidade_2))}\")\n",
    "\n",
    "\n"
   ]
  },
  {
   "cell_type": "code",
   "execution_count": 72,
   "id": "25221627",
   "metadata": {},
   "outputs": [
    {
     "name": "stdout",
     "output_type": "stream",
     "text": [
      "{'nome': 'São Paulo', 'estado': 'São Paulo', 'área': 1521, 'população_milhões': 13.3, 'país': 'Brasil', 'data_fundação': '25/01/1554'}\n",
      "endereço de dados_cidade0x7fbd3ee7a840\n",
      "{'nome': 'São Paulo', 'estado': 'São Paulo', 'área': 1521, 'população_milhões': 13.3, 'país': 'Brasil', 'data_fundação': '25/01/1554'}\n",
      "endereço de dados_cidade0x7fbd3ee7a840\n",
      "tamanho do dicionario -> 6\n"
     ]
    }
   ],
   "source": [
    "# atualização de um dicionário com novos dados iguais ou diferentes.\n",
    "print(dados_cidade)\n",
    "novos_dados_cidade = {\n",
    "    'área':1521,\n",
    "    'população_milhões':13.3,\n",
    "    'data_fundação':'25/01/1554'\n",
    "}\n",
    "# fazer a atualização de dados_cidade com os novos dados da variável novos_dados_cidade\n",
    "print(f\"endereço de dados_cidade{hex(id(dados_cidade))}\")\n",
    "dados_cidade.update(novos_dados_cidade)\n",
    "print(dados_cidade)\n",
    "print(f\"endereço de dados_cidade{hex(id(dados_cidade))}\")\n",
    "# o endereço inicial continua o mesmo mas o tamanho do dicionário mudou\n",
    "print(f\"tamanho do dicionario -> {len(dados_cidade)}\")\n",
    "# o espaço de memória também foi alterado com a inclusão de mais uma porção no dicionário\n",
    "# o update altera os dados do dicionário incluindo mais dados , logo o dicionário inicial é \n",
    "# perdido devido a atualização\n",
    "\n"
   ]
  },
  {
   "cell_type": "code",
   "execution_count": 73,
   "id": "1f258590",
   "metadata": {},
   "outputs": [
    {
     "ename": "KeyError",
     "evalue": "'prefeito'",
     "output_type": "error",
     "traceback": [
      "\u001b[0;31m---------------------------------------------------------------------------\u001b[0m",
      "\u001b[0;31mKeyError\u001b[0m                                  Traceback (most recent call last)",
      "Input \u001b[0;32mIn [73]\u001b[0m, in \u001b[0;36m<cell line: 2>\u001b[0;34m()\u001b[0m\n\u001b[1;32m      1\u001b[0m \u001b[38;5;66;03m# caso utilizarmos uma chave que não existe o python3 vai retornar um erro\u001b[39;00m\n\u001b[0;32m----> 2\u001b[0m \u001b[38;5;28mprint\u001b[39m(\u001b[38;5;124mf\u001b[39m\u001b[38;5;124m\"\u001b[39m\u001b[38;5;132;01m{\u001b[39;00mdados_cidade[\u001b[38;5;124m'\u001b[39m\u001b[38;5;124mprefeito\u001b[39m\u001b[38;5;124m'\u001b[39m]\u001b[38;5;132;01m}\u001b[39;00m\u001b[38;5;124m\"\u001b[39m)\n",
      "\u001b[0;31mKeyError\u001b[0m: 'prefeito'"
     ]
    }
   ],
   "source": [
    "# caso utilizarmos uma chave que não existe o python3 vai retornar um erro\n",
    "print(f\"{dados_cidade['prefeito']}\")"
   ]
  },
  {
   "cell_type": "code",
   "execution_count": 74,
   "id": "13efa408",
   "metadata": {},
   "outputs": [
    {
     "name": "stdout",
     "output_type": "stream",
     "text": [
      "None\n"
     ]
    }
   ],
   "source": [
    "# um método que ajuda no caso de erros como esse é usarmos o método get()\n",
    "print(f\"{dados_cidade.get('prefeito')}\")\n",
    "# usando o método get() , caso o valor não esteja no dicionário o mesmo retorna 'none' e não \n",
    "# uma mensagem de erro."
   ]
  },
  {
   "cell_type": "code",
   "execution_count": 75,
   "id": "6203204c",
   "metadata": {},
   "outputs": [
    {
     "name": "stdout",
     "output_type": "stream",
     "text": [
      "dict_keys(['nome', 'estado', 'área', 'população_milhões', 'país', 'data_fundação'])\n",
      "dict_values(['São Paulo', 'São Paulo', 1521, 13.3, 'Brasil', '25/01/1554'])\n",
      "dict_items([('nome', 'São Paulo'), ('estado', 'São Paulo'), ('área', 1521), ('população_milhões', 13.3), ('país', 'Brasil'), ('data_fundação', '25/01/1554')])\n"
     ]
    }
   ],
   "source": [
    "# conversão de dicionários em listas\n",
    "# lista de chaves\n",
    "chaves = dados_cidade.keys()\n",
    "print(chaves)\n",
    "# lista de valores\n",
    "valores = dados_cidade.values()\n",
    "print(valores)\n",
    "# lista de chave e valor em formato de tupla\n",
    "items = dados_cidade.items()\n",
    "print(items)"
   ]
  },
  {
   "cell_type": "code",
   "execution_count": 83,
   "id": "83359c73",
   "metadata": {},
   "outputs": [
    {
     "name": "stdout",
     "output_type": "stream",
     "text": [
      "Cidade => sao paulo\n",
      "Cidade => paris\n",
      "Cidade => londres\n",
      "Cidade => tóquio\n",
      "-----------\n",
      "nome=>uberlandia\n",
      "area_km²=>1200\n",
      "populacao=>300,000\n",
      "-----------\n",
      "nome=>uberlandia\n",
      "area_km²=>1200\n",
      "populacao=>300,000\n"
     ]
    }
   ],
   "source": [
    "# estrutura de repetição FOR loop\n",
    "# laço de repetição para iterar (navegar) sobre objetos\n",
    "# normalmente usando em estrutura de dados para iterar sobre os mesmos\n",
    "# sequência de tarefas pré definidas e navegação sobre objetos\n",
    "\n",
    "lista_cidades = ['sao paulo', 'paris', 'londres', 'tóquio']\n",
    "# for usando o in \n",
    "for nome in lista_cidades:\n",
    "    print(f\"Cidade => {nome}\")\n",
    "print(\"-----------\")\n",
    "# iteração em dicionários\n",
    "dados_cidade = {\n",
    "    'nome':'uberlandia',\n",
    "    'area_km²':'1200',\n",
    "    'populacao':'300,000'\n",
    "}\n",
    "for chave in dados_cidade:\n",
    "    print(f\"{chave}=>{dados_cidade[chave]}\")\n",
    "print(\"-----------\")\n",
    "# caso seja usada a construção\n",
    "# for chave, valor in dados_cidades:\n",
    "#     print(f\"{chave}=>{valor}\")\n",
    "# a mesma vai gerar erro, nesse caso podemos transformar o dicionário em uma lista de tuplas \n",
    "# usando o método items()\n",
    "for chave, valor in dados_cidade.items():\n",
    "    print(f\"{chave}=>{valor}\")"
   ]
  },
  {
   "cell_type": "code",
   "execution_count": 90,
   "id": "2c073ca9",
   "metadata": {},
   "outputs": [
    {
     "name": "stdout",
     "output_type": "stream",
     "text": [
      "posicao 0 valor 1\n",
      "posicao 1 valor 2\n",
      "posicao 2 valor 3\n",
      "posicao 3 valor 4\n",
      "posicao 4 valor 5\n",
      "posicao 5 valor 6\n",
      "posicao 6 valor 7\n",
      "posicao 7 valor 9\n",
      "posicao 8 valor 100\n",
      "--------\n",
      "posicao 2 valor 3\n",
      "posicao 3 valor 4\n",
      "posicao 4 valor 5\n",
      "posicao 5 valor 6\n",
      "posicao 6 valor 7\n",
      "posicao 7 valor 9\n",
      "posicao 8 valor 100\n",
      "--------\n",
      "posicao 0 valor 1\n",
      "posicao 3 valor 4\n",
      "posicao 6 valor 7\n"
     ]
    }
   ],
   "source": [
    "# caso tenhamos a necessidade usar um index para ver ou alterar a posição com o for loop poderíamos\n",
    "# usar\n",
    "lista = [1,2,3,4,5,6,7,9,100]\n",
    "for x in range(len(lista)):\n",
    "    print(f\"posicao {x} valor {lista[x]}\")\n",
    "print(\"--------\")\n",
    "# o range pode ser usado também para iniciar a partir de um dado valor \n",
    "for x in range(2,len(lista)):\n",
    "    print(f\"posicao {x} valor {lista[x]}\")\n",
    "print(\"--------\")\n",
    "# o range também pode ser usado como incremento de passos ou steps\n",
    "for x in range(0,len(lista),3):\n",
    "     print(f\"posicao {x} valor {lista[x]}\")\n"
   ]
  },
  {
   "cell_type": "code",
   "execution_count": 95,
   "id": "6a5c7668",
   "metadata": {},
   "outputs": [
    {
     "name": "stdout",
     "output_type": "stream",
     "text": [
      "hello, josé\n",
      "Hello, \n"
     ]
    }
   ],
   "source": [
    "# funções em python\n",
    "# já usamos funções como print(), len() , sort()\n",
    "# uma função é definida com a palavra reservada def seguida do nome da função e seus parâmetros\n",
    "def funcao_hello(nome):\n",
    "    return \"hello, \"+nome\n",
    "# executando a função hello\n",
    "print(funcao_hello(\"josé\"))\n",
    "# uma função pode não ter um return\n",
    "def funcao_hello():\n",
    "    print(\"Hello, \")\n",
    "# executando a função_hello()\n",
    "funcao_hello()\n",
    "# caso se use a função print(funcao_hello()), teremos a impressão de none, pois a função \n",
    "# funcao_hello() não tem um retorno\n"
   ]
  },
  {
   "cell_type": "code",
   "execution_count": 105,
   "id": "1bd67ece",
   "metadata": {},
   "outputs": [
    {
     "name": "stdout",
     "output_type": "stream",
     "text": [
      "Exemplos de fatoriais\n",
      "fatorial -5 Não existe -5! pois -5 é negativo\n",
      "fatorial 0! 1\n",
      "fatorial 1! 1\n",
      "fatorial 2! 2\n",
      "fatorial 3! 6\n",
      "fatorial 4! 24\n",
      "fatorial 5! 120\n"
     ]
    }
   ],
   "source": [
    "# as funções podem ser recursivas\n",
    "# para uma função ser recursiva a mesma deve remeter para um caso base que deve ser único\n",
    "# e que também é a sua condição de parada\n",
    "# por exemplo a função fatorial\n",
    "\n",
    "def fatorial(n):\n",
    "    if n == 0 or n == 1:\n",
    "        return 1\n",
    "    if n < 0:\n",
    "        return f\"Não existe {n}! pois {n} é negativo\"\n",
    "    return n * fatorial(n-1)\n",
    "# nessa função fatorial vemos que a condição de parada é 'n' ser igual a zero ou 'n' ser igual a 1\n",
    "# caso contrário temos que a função retorna a própria função menos uma unidade ou a regra do que\n",
    "# pedimos , como o fatorial de um número é a multiplicação dele até 1\n",
    "# temos 5! = 5 * 4 * 3 * 2 * 1 * 0!\n",
    "\n",
    "# executando o fatorial tempos\n",
    "print(\"Exemplos de fatoriais\")\n",
    "print(f\"fatorial -5 {fatorial(-5)}\")\n",
    "print(f\"fatorial 0! {fatorial(0)}\")\n",
    "print(f\"fatorial 1! {fatorial(1)}\")\n",
    "print(f\"fatorial 2! {fatorial(2)}\")\n",
    "print(f\"fatorial 3! {fatorial(3)}\")\n",
    "print(f\"fatorial 4! {fatorial(4)}\")\n",
    "print(f\"fatorial 5! {fatorial(5)}\")"
   ]
  },
  {
   "cell_type": "code",
   "execution_count": 106,
   "id": "04d836fd",
   "metadata": {},
   "outputs": [
    {
     "name": "stdout",
     "output_type": "stream",
     "text": [
      "(1, 2, 3, 4, 5) <class 'tuple'>\n"
     ]
    }
   ],
   "source": [
    "# parâmetros desconhecidos em funções\n",
    "def media(*args):\n",
    "    print(args, type(args))\n",
    "media(1,2,3,4,5)"
   ]
  },
  {
   "cell_type": "code",
   "execution_count": 107,
   "id": "dcfa3cf7",
   "metadata": {},
   "outputs": [
    {
     "data": {
      "text/plain": [
       "5.217666666666667"
      ]
     },
     "execution_count": 107,
     "metadata": {},
     "output_type": "execute_result"
    }
   ],
   "source": [
    "# como percebemos em caso de multiplos parâmetros desconhecidos, usamos o *args, mas se tivermos\n",
    "# a necessidade de usar um parâmetro extra, devemos declarar efetivamente o mesmo na função\n",
    "def media(*argumentos_da_soma, erro_aceitavel):\n",
    "    soma = sum(argumentos_da_soma)\n",
    "    return (soma/len(argumentos_da_soma) + erro_aceitavel)\n",
    "# ao passar mais parâmetros devemos especificar no escopo da função qual é o argumento da soma e \n",
    "# qual é o erro\n",
    "media(1.3,7.45,6.9, erro_aceitavel=0.001)"
   ]
  },
  {
   "cell_type": "code",
   "execution_count": 111,
   "id": "e2632dd6",
   "metadata": {},
   "outputs": [
    {
     "data": {
      "text/plain": [
       "({'nome': 'adalberto', 'idade': 35, 'funcao': 'limpeza'}, dict)"
      ]
     },
     "execution_count": 111,
     "metadata": {},
     "output_type": "execute_result"
    }
   ],
   "source": [
    "# keywords arguments em python kwargs\n",
    "def info_pessoais(**kwargs):\n",
    "    if kwargs['nome']:\n",
    "        return kwargs, type(kwargs)   \n",
    "    \n",
    "# o **kwargs é mapeado para um dicionário tendo todas as suas funções\n",
    "info_pessoais(nome='adalberto', idade = 35, funcao = 'limpeza')\n"
   ]
  }
 ],
 "metadata": {
  "kernelspec": {
   "display_name": "Python 3 (ipykernel)",
   "language": "python",
   "name": "python3"
  },
  "language_info": {
   "codemirror_mode": {
    "name": "ipython",
    "version": 3
   },
   "file_extension": ".py",
   "mimetype": "text/x-python",
   "name": "python",
   "nbconvert_exporter": "python",
   "pygments_lexer": "ipython3",
   "version": "3.8.10"
  }
 },
 "nbformat": 4,
 "nbformat_minor": 5
}
